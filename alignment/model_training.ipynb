{
  "cells": [
    {
      "cell_type": "code",
      "source": [
        "import re\n",
        "import numpy as np\n",
        "import pandas as pd\n",
        "import matplotlib.pyplot as plt\n",
        "import seaborn as sns\n",
        "import torch\n",
        "import time\n",
        "import seaborn as sns\n",
        "import shutil\n",
        "from torch import optim\n",
        "from torch.nn import functional as F\n",
        "from IPython.display import clear_output\n",
        "from IPython.utils import io\n",
        "\n",
        "with io.capture_output() as captured:\n",
        "  !pip install transformers sentencepiece sentence_transformers\n",
        "\n",
        "from sentence_transformers import SentenceTransformer, SentencesDataset, LoggingHandler, losses\n",
        "from sentence_transformers.readers import InputExample\n",
        "from sentence_transformers.evaluation import SentenceEvaluator\n",
        "from torch.utils.data import DataLoader\n",
        "from datetime import datetime\n",
        "import math\n",
        "\n",
        "from transformers import AdamW, AutoTokenizer, AutoModel, get_linear_schedule_with_warmup\n",
        "from tqdm.notebook import tqdm\n",
        "\n",
        "with io.capture_output() as captured:\n",
        "  !pip install lingtrain_aligner dateparser razdel\n",
        "\n",
        "from lingtrain_aligner import preprocessor, splitter, aligner, resolver, reader, helper, vis_helper, metrics\n",
        "\n",
        "sns.set()"
      ],
      "metadata": {
        "id": "sbOYsAszNGrj"
      },
      "execution_count": 1,
      "outputs": []
    },
    {
      "cell_type": "code",
      "execution_count": 4,
      "metadata": {
        "id": "0AXkafl2Ok61"
      },
      "outputs": [],
      "source": [
        "df = pd.read_csv(\"train_texts.csv\")"
      ]
    },
    {
      "cell_type": "code",
      "source": [
        "df.head()"
      ],
      "metadata": {
        "id": "XbMIQWDJ0f7D"
      },
      "execution_count": null,
      "outputs": []
    },
    {
      "cell_type": "code",
      "execution_count": 7,
      "metadata": {
        "id": "eDRam2X_QbE0"
      },
      "outputs": [],
      "source": [
        "train_data = []\n",
        "\n",
        "for idx, row in df.iterrows():\n",
        "  train_data.append({\"ru\": row[\"from\"], \"ro\": row[\"to\"]})"
      ]
    },
    {
      "cell_type": "code",
      "execution_count": 8,
      "metadata": {
        "id": "JM51wKW1PfmP"
      },
      "outputs": [],
      "source": [
        "train_examples = [InputExample(texts=[x['ru'], x['ro']], label=1) for x in train_data]"
      ]
    },
    {
      "cell_type": "code",
      "execution_count": 9,
      "metadata": {
        "id": "j0jkljgFRToA"
      },
      "outputs": [],
      "source": [
        "train_dataset = SentencesDataset(train_examples, model)\n",
        "train_dataloader = DataLoader(train_dataset, shuffle=True, batch_size=6)"
      ]
    },
    {
      "cell_type": "code",
      "execution_count": 10,
      "metadata": {
        "id": "rJmbdnedRdKp"
      },
      "outputs": [],
      "source": [
        "train_loss = losses.MultipleNegativesRankingLoss(model=model)"
      ]
    },
    {
      "cell_type": "code",
      "source": [
        "def remove_utf_tags(text):\n",
        "    pattern = re.compile(r'\\\\u[0-9a-fA-F]{4}')\n",
        "\n",
        "    text = text.replace('\\ufeff', '')\n",
        "\n",
        "    cleaned_text = re.sub(pattern, '', text)\n",
        "\n",
        "    return cleaned_text"
      ],
      "metadata": {
        "id": "59t4uzifCwjm"
      },
      "execution_count": null,
      "outputs": []
    },
    {
      "cell_type": "code",
      "source": [
        "text1 = df[\"from\"].str.cat(sep=' ')"
      ],
      "metadata": {
        "id": "yiLJc2ZTBi-h"
      },
      "execution_count": 11,
      "outputs": []
    },
    {
      "cell_type": "code",
      "source": [
        "text2 = df[\"to\"].str.cat(sep=' ')"
      ],
      "metadata": {
        "id": "1vyHVfa5BwF2"
      },
      "execution_count": 12,
      "outputs": []
    },
    {
      "cell_type": "code",
      "execution_count": 18,
      "metadata": {
        "id": "bfy1YLnGSEkv"
      },
      "outputs": [],
      "source": [
        "class ChainScoreEvaluator(SentenceEvaluator):\n",
        "  \"\"\"Evaluate a lingtrain chain score. This score calculates coefficient of unbrokenness.\"\"\"\n",
        "\n",
        "  def __init__(self, db_path, lang_from, lang_to, text1, text2, scores):\n",
        "    self.db_path = db_path\n",
        "    self.lang_from = lang_from\n",
        "    self.lang_to = lang_to\n",
        "    self.text1 = text1\n",
        "    self.text2 = text2\n",
        "    self.scores = scores\n",
        "    self.best_score = 0.0\n",
        "\n",
        "  def __call__(self, model, output_path: str = None, epoch: int = -1, steps: int = -1) -> float:\n",
        "    lines1_prepared = text1.split('\\n')\n",
        "    lines2_prepared = text2.split('\\n')\n",
        "\n",
        "    splitted_from = splitter.split_by_sentences_wrapper(lines1_prepared, lang_from)\n",
        "    splitted_to = splitter.split_by_sentences_wrapper(lines2_prepared, lang_to)\n",
        "\n",
        "    if os.path.isfile(db_path):\n",
        "      os.unlink(db_path)\n",
        "    aligner.fill_db(db_path, lang_from, lang_to, splitted_from, splitted_to)\n",
        "\n",
        "    start_time = time.time()\n",
        "\n",
        "    batch_ids = range(0,1)\n",
        "    aligner.align_db(db_path,\n",
        "                    model_name,\n",
        "                    batch_size=200,\n",
        "                    window=50,\n",
        "                    batch_ids=batch_ids,\n",
        "                    save_pic=False,\n",
        "                    embed_batch_size=10,\n",
        "                    normalize_embeddings=False,\n",
        "                    show_progress_bar=False,\n",
        "                    shift=0,\n",
        "                    model=model\n",
        "                    )\n",
        "\n",
        "    print(\"\\n--> epoch:\", epoch, \"steps:\", steps)\n",
        "\n",
        "    # print(\"\\n--- %s seconds ---\" % (time.time() - start_time))\n",
        "\n",
        "    score1 = metrics.chain_score(db_path)\n",
        "\n",
        "    if score1 > self.best_score:\n",
        "      self.best_score = score1\n",
        "      print(\"\\nscore 1:\", score1, \"<-- new best score.\")\n",
        "      if self.best_score > 0.35:\n",
        "        print(\"saving...\")\n",
        "        model.save('output/best_model')\n",
        "        print(\"\\nsaved\")\n",
        "    else:\n",
        "      print(\"\\nscore 1:\", score1, \"\\n\")\n",
        "\n",
        "    # print(\"score 2:\", metrics.chain_score(db_path, mode=\"both\"))\n",
        "\n",
        "    self.scores.append(score1)\n",
        "\n",
        "    vis_helper.visualize_alignment_by_db(db_path,\n",
        "            output_path=\"alignment_vis.png\",\n",
        "            batch_size=200,\n",
        "            size=(600,600),\n",
        "            lang_name_from=lang_from,\n",
        "            lang_name_to=lang_to,\n",
        "            plt_show=True)\n",
        "\n",
        "    if steps%100==0:\n",
        "      ax = sns.lineplot(data=scores)\n",
        "      ax.set(xlabel='Step/100', ylabel='Chain Score')\n",
        "      plt.show()\n",
        "\n",
        "    return score1\n",
        "\n",
        "scores = []\n",
        "lang_from = \"ru\"\n",
        "lang_to = \"roma\"\n",
        "db_path = \"alignment.db\""
      ]
    },
    {
      "cell_type": "code",
      "source": [
        "text1 = remove_utf_tags(text1)"
      ],
      "metadata": {
        "id": "MLAMnbhJByOw"
      },
      "execution_count": 15,
      "outputs": []
    },
    {
      "cell_type": "code",
      "source": [
        "text2 = remove_utf_tags(text2)"
      ],
      "metadata": {
        "id": "rRI7IUzjC05z"
      },
      "execution_count": 16,
      "outputs": []
    },
    {
      "cell_type": "code",
      "source": [
        "evaluator = ChainScoreEvaluator(db_path, lang_from, lang_to, text1, text2, scores)"
      ],
      "metadata": {
        "id": "gV-f0g8oML_x"
      },
      "execution_count": 19,
      "outputs": []
    },
    {
      "cell_type": "code",
      "execution_count": 20,
      "metadata": {
        "id": "M49-obOYWPYc"
      },
      "outputs": [],
      "source": [
        "torch.cuda.empty_cache()"
      ]
    },
    {
      "cell_type": "code",
      "execution_count": null,
      "metadata": {
        "id": "tqUdHwJRRl2K"
      },
      "outputs": [],
      "source": [
        "model_name = 'labse'\n",
        "train_batch_size = 6\n",
        "model_save_path = 'output/labse_continue_training'\n",
        "num_epochs = 8\n",
        "\n",
        "warmup_steps = math.ceil(len(train_dataloader) * 0.1 * num_epochs)\n",
        "\n",
        "model.fit(train_objectives=[(train_dataloader, train_loss)],\n",
        "        evaluator=evaluator,\n",
        "        epochs=num_epochs,\n",
        "        evaluation_steps=100,\n",
        "        output_path=model_save_path,\n",
        "        save_best_model=True,\n",
        "        use_amp=True,\n",
        "        warmup_steps=warmup_steps)"
      ]
    },
    {
      "cell_type": "code",
      "source": [
        "!zip -r /content/file.zip /content/output/best_model"
      ],
      "metadata": {
        "colab": {
          "base_uri": "https://localhost:8080/"
        },
        "id": "-_V2vD0dVjje",
        "outputId": "4f88a0fd-8c7d-4939-bb5e-fe053e5abfeb"
      },
      "execution_count": null,
      "outputs": [
        {
          "output_type": "stream",
          "name": "stdout",
          "text": [
            "  adding: content/output/best_model/ (stored 0%)\n",
            "  adding: content/output/best_model/config.json (deflated 53%)\n",
            "  adding: content/output/best_model/tokenizer_config.json (deflated 46%)\n",
            "  adding: content/output/best_model/2_Dense/ (stored 0%)\n",
            "  adding: content/output/best_model/2_Dense/config.json (deflated 26%)\n",
            "  adding: content/output/best_model/2_Dense/pytorch_model.bin (deflated 8%)\n",
            "  adding: content/output/best_model/vocab.txt (deflated 43%)\n",
            "  adding: content/output/best_model/tokenizer.json (deflated 65%)\n",
            "  adding: content/output/best_model/pytorch_model.bin (deflated 7%)\n",
            "  adding: content/output/best_model/modules.json (deflated 68%)\n",
            "  adding: content/output/best_model/1_Pooling/ (stored 0%)\n",
            "  adding: content/output/best_model/1_Pooling/config.json (deflated 49%)\n",
            "  adding: content/output/best_model/README.md (deflated 54%)\n",
            "  adding: content/output/best_model/sentence_bert_config.json (deflated 4%)\n",
            "  adding: content/output/best_model/3_Normalize/ (stored 0%)\n",
            "  adding: content/output/best_model/config_sentence_transformers.json (deflated 26%)\n",
            "  adding: content/output/best_model/special_tokens_map.json (deflated 42%)\n"
          ]
        }
      ]
    },
    {
      "cell_type": "code",
      "source": [
        "from google.colab import files\n",
        "files.download(\"/content/file.zip\")"
      ],
      "metadata": {
        "colab": {
          "base_uri": "https://localhost:8080/",
          "height": 34
        },
        "id": "KceC0U2iWDfd",
        "outputId": "008efb51-4120-4828-a7fe-e937b089a67c"
      },
      "execution_count": null,
      "outputs": [
        {
          "output_type": "display_data",
          "data": {
            "text/plain": [
              "<IPython.core.display.Javascript object>"
            ],
            "application/javascript": [
              "\n",
              "    async function download(id, filename, size) {\n",
              "      if (!google.colab.kernel.accessAllowed) {\n",
              "        return;\n",
              "      }\n",
              "      const div = document.createElement('div');\n",
              "      const label = document.createElement('label');\n",
              "      label.textContent = `Downloading \"${filename}\": `;\n",
              "      div.appendChild(label);\n",
              "      const progress = document.createElement('progress');\n",
              "      progress.max = size;\n",
              "      div.appendChild(progress);\n",
              "      document.body.appendChild(div);\n",
              "\n",
              "      const buffers = [];\n",
              "      let downloaded = 0;\n",
              "\n",
              "      const channel = await google.colab.kernel.comms.open(id);\n",
              "      // Send a message to notify the kernel that we're ready.\n",
              "      channel.send({})\n",
              "\n",
              "      for await (const message of channel.messages) {\n",
              "        // Send a message to notify the kernel that we're ready.\n",
              "        channel.send({})\n",
              "        if (message.buffers) {\n",
              "          for (const buffer of message.buffers) {\n",
              "            buffers.push(buffer);\n",
              "            downloaded += buffer.byteLength;\n",
              "            progress.value = downloaded;\n",
              "          }\n",
              "        }\n",
              "      }\n",
              "      const blob = new Blob(buffers, {type: 'application/binary'});\n",
              "      const a = document.createElement('a');\n",
              "      a.href = window.URL.createObjectURL(blob);\n",
              "      a.download = filename;\n",
              "      div.appendChild(a);\n",
              "      a.click();\n",
              "      div.remove();\n",
              "    }\n",
              "  "
            ]
          },
          "metadata": {}
        },
        {
          "output_type": "display_data",
          "data": {
            "text/plain": [
              "<IPython.core.display.Javascript object>"
            ],
            "application/javascript": [
              "download(\"download_e2ee84d9-d8a6-42c2-bde9-e450fe66f38d\", \"file.zip\", 1759140700)"
            ]
          },
          "metadata": {}
        }
      ]
    },
    {
      "cell_type": "code",
      "source": [
        "from google.colab import drive\n",
        "drive.mount('/content/drive')"
      ],
      "metadata": {
        "colab": {
          "base_uri": "https://localhost:8080/"
        },
        "id": "l61AMlhA_Q8f",
        "outputId": "1b1a5004-9a6c-4883-b158-a9b8735a864b"
      },
      "execution_count": null,
      "outputs": [
        {
          "output_type": "stream",
          "name": "stdout",
          "text": [
            "Mounted at /content/drive\n"
          ]
        }
      ]
    },
    {
      "cell_type": "code",
      "source": [
        "!mkdir -p \"/content/drive/My Drive/RuskaRomaLabse\""
      ],
      "metadata": {
        "id": "BvwEI5T__aYG"
      },
      "execution_count": null,
      "outputs": []
    },
    {
      "cell_type": "code",
      "source": [
        "!sudo cp -r \"/content/output\" \"/content/drive/My Drive/RuskaRomaLabse\""
      ],
      "metadata": {
        "id": "ewnn_ukn_dcf"
      },
      "execution_count": null,
      "outputs": []
    }
  ],
  "metadata": {
    "colab": {
      "provenance": []
    },
    "kernelspec": {
      "display_name": "Python 3",
      "name": "python3"
    },
    "language_info": {
      "name": "python"
    },
    "accelerator": "GPU",
    "gpuClass": "standard"
  },
  "nbformat": 4,
  "nbformat_minor": 0
}