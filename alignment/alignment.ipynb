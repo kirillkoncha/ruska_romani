{
  "nbformat": 4,
  "nbformat_minor": 0,
  "metadata": {
    "colab": {
      "provenance": []
    },
    "kernelspec": {
      "name": "python3",
      "display_name": "Python 3"
    },
    "language_info": {
      "name": "python"
    }
  },
  "cells": [
    {
      "cell_type": "code",
      "execution_count": null,
      "metadata": {
        "id": "yi45y2F4wo0M"
      },
      "outputs": [],
      "source": [
        "import re\n",
        "import numpy as np\n",
        "import pandas as pd\n",
        "import matplotlib.pyplot as plt\n",
        "import seaborn as sns\n",
        "import torch\n",
        "import time\n",
        "import seaborn as sns\n",
        "import shutil\n",
        "from torch import optim\n",
        "from torch.nn import functional as F\n",
        "from IPython.display import clear_output\n",
        "from IPython.utils import io\n",
        "\n",
        "with io.capture_output() as captured:\n",
        "  !pip install transformers sentencepiece sentence_transformers\n",
        "\n",
        "from sentence_transformers import SentenceTransformer, SentencesDataset, LoggingHandler, losses\n",
        "from sentence_transformers.readers import InputExample\n",
        "from sentence_transformers.evaluation import SentenceEvaluator\n",
        "from torch.utils.data import DataLoader\n",
        "from datetime import datetime\n",
        "import math\n",
        "\n",
        "from transformers import AdamW, AutoTokenizer, AutoModel, get_linear_schedule_with_warmup\n",
        "from tqdm.notebook import tqdm\n",
        "\n",
        "with io.capture_output() as captured:\n",
        "  !pip install lingtrain_aligner dateparser razdel\n",
        "\n",
        "from lingtrain_aligner import preprocessor, splitter, aligner, resolver, reader, helper, vis_helper, metrics\n",
        "\n",
        "sns.set()"
      ]
    },
    {
      "cell_type": "markdown",
      "source": [
        "Load texts in both languages. To do all texts, the notebook have to be runned with every text path"
      ],
      "metadata": {
        "id": "Hv82Yxok739B"
      }
    },
    {
      "cell_type": "code",
      "source": [
        "with open('birth_rus.txt', 'r') as file:\n",
        "    text1 = file.read()"
      ],
      "metadata": {
        "id": "_5N7627fzKyz"
      },
      "execution_count": null,
      "outputs": []
    },
    {
      "cell_type": "code",
      "source": [
        "with open('birth_roma.txt', 'r') as file:\n",
        "    text2 = file.read()"
      ],
      "metadata": {
        "id": "cd46fYTS2Ll1"
      },
      "execution_count": null,
      "outputs": []
    },
    {
      "cell_type": "code",
      "source": [
        "lang_from = \"roma\"\n",
        "lang_to = \"ru\"\n",
        "db_path = \"alignment.db\"\n",
        "\n",
        "use_proxy_from = False\n",
        "use_proxy_to = False"
      ],
      "metadata": {
        "id": "tSjIBH1BxVKe"
      },
      "execution_count": null,
      "outputs": []
    },
    {
      "cell_type": "code",
      "source": [
        "splitted_from = splitter.split_by_sentences(text1.split('\\n'), lang_from)\n",
        "splitted_to = splitter.split_by_sentences(text2.split('\\n'), lang_to)\n",
        "\n",
        "aligner.fill_db(db_path, lang_from, lang_to, splitted_from, splitted_to)"
      ],
      "metadata": {
        "id": "C6RZyW7GzIhj"
      },
      "execution_count": null,
      "outputs": []
    },
    {
      "cell_type": "code",
      "source": [
        "batch_ids = [0,1,2,3]\n",
        "\n",
        "shift = 0\n",
        "window = 80"
      ],
      "metadata": {
        "id": "N53BQgx-2Ok5"
      },
      "execution_count": null,
      "outputs": []
    },
    {
      "cell_type": "code",
      "source": [
        "aligner.align_db(db_path,\n",
        "                model_name=\"sentence_transformer_multilingual_labse\",\n",
        "                batch_size=200,\n",
        "                window=window,\n",
        "                batch_ids=batch_ids,\n",
        "                save_pic=False,\n",
        "                embed_batch_size=5,\n",
        "                normalize_embeddings=True,\n",
        "                show_progress_bar=True,\n",
        "                shift=shift,\n",
        "                model=model,\n",
        "                use_proxy_from=use_proxy_from,\n",
        "                use_proxy_to=use_proxy_to\n",
        "                )"
      ],
      "metadata": {
        "id": "8pn_aH3X240Q"
      },
      "execution_count": null,
      "outputs": []
    },
    {
      "cell_type": "code",
      "source": [
        "steps = 3\n",
        "batch_id = -1\n",
        "for i in range(steps):\n",
        "    conflicts, rest = resolver.get_all_conflicts(db_path, min_chain_length=2+i, max_conflicts_len=6*(i+1), batch_id=batch_id)\n",
        "    resolver.get_statistics(conflicts)\n",
        "    resolver.get_statistics(rest)\n",
        "\n",
        "    resolver.resolve_all_conflicts(db_path, conflicts, model_name, show_logs=False, model=model)"
      ],
      "metadata": {
        "id": "JkEinJhw3KY_"
      },
      "execution_count": null,
      "outputs": []
    },
    {
      "cell_type": "code",
      "source": [
        "conflicts, rest = resolver.get_all_conflicts(db_path, min_chain_length=2, max_conflicts_len=26, batch_id=batch_id)\n",
        "resolver.get_statistics(conflicts)\n",
        "resolver.get_statistics(rest)\n",
        "\n",
        "resolver.resolve_all_conflicts(db_path, conflicts, model_name, show_logs=False, model=model)"
      ],
      "metadata": {
        "id": "3bHia8WY3Ofx"
      },
      "execution_count": null,
      "outputs": []
    },
    {
      "cell_type": "code",
      "source": [
        "from lingtrain_aligner import saver\n",
        "\n",
        "batch_ids=[]\n",
        "\n",
        "output_path=\"/content\"\n",
        "\n",
        "saver.save_plain_text(db_path, os.path.join(output_path, f\"corpora_{lang_from}.txt\"), direction=\"from\", batch_ids=batch_ids)\n",
        "saver.save_plain_text(db_path, os.path.join(output_path, f\"corpora_{lang_to}.txt\"), direction=\"to\", batch_ids=batch_ids)\n",
        "\n",
        "saver.save_tmx(db_path, os.path.join(output_path, f\"corpora_{lang_from}_{lang_to}.tmx\"), lang_from, lang_to)"
      ],
      "metadata": {
        "id": "T6fJnK5Q3XzV"
      },
      "execution_count": null,
      "outputs": []
    },
    {
      "cell_type": "code",
      "source": [
        "from lingtrain_aligner import helper, aligner\n",
        "\n",
        "lines_from, lines_to = helper.read_processing(db_path)\n",
        "\n",
        "print(len(lines_from), len(lines_to))"
      ],
      "metadata": {
        "id": "0iuiSMGp3d4D"
      },
      "execution_count": null,
      "outputs": []
    },
    {
      "cell_type": "code",
      "source": [
        "vec_from = aligner.get_line_vectors(lines_from, model_name=\"\", model=model)\n",
        "vec_to = aligner.get_line_vectors(lines_to, model_name=\"\", model=model)"
      ],
      "metadata": {
        "id": "s_0J_90p3gH6"
      },
      "execution_count": null,
      "outputs": []
    },
    {
      "cell_type": "code",
      "source": [
        "from scipy import spatial\n",
        "\n",
        "sims = [1 - spatial.distance.cosine(x, y) for x,y in zip(vec_from, vec_to)]"
      ],
      "metadata": {
        "id": "CqRkKvW53h83"
      },
      "execution_count": null,
      "outputs": []
    },
    {
      "cell_type": "markdown",
      "source": [
        "Save aligned pairs to csv"
      ],
      "metadata": {
        "id": "wRWnV3i-8EEw"
      }
    },
    {
      "cell_type": "code",
      "source": [
        "source = \"birth\""
      ],
      "metadata": {
        "id": "gOWnUXGM7PSb"
      },
      "execution_count": null,
      "outputs": []
    },
    {
      "cell_type": "code",
      "source": [
        "output = {\"to\": lines_to, \"from\": lines_from, \"sim\": sims, \"source\": source}"
      ],
      "metadata": {
        "id": "q1E00Fzb351r"
      },
      "execution_count": null,
      "outputs": []
    },
    {
      "cell_type": "code",
      "source": [
        "output = pd.DataFrame.from_dict(output)"
      ],
      "metadata": {
        "id": "kCowEcjP7R0a"
      },
      "execution_count": null,
      "outputs": []
    },
    {
      "cell_type": "code",
      "source": [
        "output.to_csv(source+\".csv\")"
      ],
      "metadata": {
        "id": "T5s9KEI17t1n"
      },
      "execution_count": null,
      "outputs": []
    }
  ]
}